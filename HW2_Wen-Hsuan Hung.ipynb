{
 "cells": [
  {
   "cell_type": "markdown",
   "id": "5e3fe6c6",
   "metadata": {},
   "source": [
    "# HW2\n",
    "## Wen-Hsuan Hung"
   ]
  },
  {
   "cell_type": "code",
   "execution_count": 1,
   "id": "a69d48e1",
   "metadata": {},
   "outputs": [],
   "source": [
    "import pandas as pd\n",
    "import numpy as np\n",
    "import matplotlib.pyplot as plt\n",
    "import seaborn as sns\n",
    "%matplotlib inline"
   ]
  },
  {
   "cell_type": "code",
   "execution_count": 2,
   "id": "823afbd0",
   "metadata": {
    "scrolled": true
   },
   "outputs": [
    {
     "data": {
      "text/html": [
       "<div>\n",
       "<style scoped>\n",
       "    .dataframe tbody tr th:only-of-type {\n",
       "        vertical-align: middle;\n",
       "    }\n",
       "\n",
       "    .dataframe tbody tr th {\n",
       "        vertical-align: top;\n",
       "    }\n",
       "\n",
       "    .dataframe thead th {\n",
       "        text-align: right;\n",
       "    }\n",
       "</style>\n",
       "<table border=\"1\" class=\"dataframe\">\n",
       "  <thead>\n",
       "    <tr style=\"text-align: right;\">\n",
       "      <th></th>\n",
       "      <th>RECORD</th>\n",
       "      <th>BBLE</th>\n",
       "      <th>BORO</th>\n",
       "      <th>BLOCK</th>\n",
       "      <th>LOT</th>\n",
       "      <th>EASEMENT</th>\n",
       "      <th>OWNER</th>\n",
       "      <th>BLDGCL</th>\n",
       "      <th>TAXCLASS</th>\n",
       "      <th>LTFRONT</th>\n",
       "      <th>...</th>\n",
       "      <th>BLDFRONT</th>\n",
       "      <th>BLDDEPTH</th>\n",
       "      <th>AVLAND2</th>\n",
       "      <th>AVTOT2</th>\n",
       "      <th>EXLAND2</th>\n",
       "      <th>EXTOT2</th>\n",
       "      <th>EXCD2</th>\n",
       "      <th>PERIOD</th>\n",
       "      <th>YEAR</th>\n",
       "      <th>VALTYPE</th>\n",
       "    </tr>\n",
       "  </thead>\n",
       "  <tbody>\n",
       "    <tr>\n",
       "      <th>0</th>\n",
       "      <td>1</td>\n",
       "      <td>1000010101</td>\n",
       "      <td>1</td>\n",
       "      <td>1</td>\n",
       "      <td>101</td>\n",
       "      <td>NaN</td>\n",
       "      <td>U S GOVT LAND &amp; BLDGS</td>\n",
       "      <td>P7</td>\n",
       "      <td>4</td>\n",
       "      <td>500</td>\n",
       "      <td>...</td>\n",
       "      <td>0</td>\n",
       "      <td>0</td>\n",
       "      <td>3775500.0</td>\n",
       "      <td>8613000.0</td>\n",
       "      <td>3775500.0</td>\n",
       "      <td>8613000.0</td>\n",
       "      <td>NaN</td>\n",
       "      <td>FINAL</td>\n",
       "      <td>2010/11</td>\n",
       "      <td>AC-TR</td>\n",
       "    </tr>\n",
       "    <tr>\n",
       "      <th>1</th>\n",
       "      <td>2</td>\n",
       "      <td>1000010201</td>\n",
       "      <td>1</td>\n",
       "      <td>1</td>\n",
       "      <td>201</td>\n",
       "      <td>NaN</td>\n",
       "      <td>U S GOVT LAND &amp; BLDGS</td>\n",
       "      <td>Z9</td>\n",
       "      <td>4</td>\n",
       "      <td>27</td>\n",
       "      <td>...</td>\n",
       "      <td>0</td>\n",
       "      <td>0</td>\n",
       "      <td>11111400.0</td>\n",
       "      <td>80690400.0</td>\n",
       "      <td>11111400.0</td>\n",
       "      <td>80690400.0</td>\n",
       "      <td>NaN</td>\n",
       "      <td>FINAL</td>\n",
       "      <td>2010/11</td>\n",
       "      <td>AC-TR</td>\n",
       "    </tr>\n",
       "    <tr>\n",
       "      <th>2</th>\n",
       "      <td>3</td>\n",
       "      <td>1000020001</td>\n",
       "      <td>1</td>\n",
       "      <td>2</td>\n",
       "      <td>1</td>\n",
       "      <td>NaN</td>\n",
       "      <td>DEPT OF GENERAL SERVI</td>\n",
       "      <td>Y7</td>\n",
       "      <td>4</td>\n",
       "      <td>709</td>\n",
       "      <td>...</td>\n",
       "      <td>709</td>\n",
       "      <td>564</td>\n",
       "      <td>32321790.0</td>\n",
       "      <td>40179510.0</td>\n",
       "      <td>32321790.0</td>\n",
       "      <td>40179510.0</td>\n",
       "      <td>NaN</td>\n",
       "      <td>FINAL</td>\n",
       "      <td>2010/11</td>\n",
       "      <td>AC-TR</td>\n",
       "    </tr>\n",
       "    <tr>\n",
       "      <th>3</th>\n",
       "      <td>4</td>\n",
       "      <td>1000020023</td>\n",
       "      <td>1</td>\n",
       "      <td>2</td>\n",
       "      <td>23</td>\n",
       "      <td>NaN</td>\n",
       "      <td>DEPARTMENT OF BUSINES</td>\n",
       "      <td>T2</td>\n",
       "      <td>4</td>\n",
       "      <td>793</td>\n",
       "      <td>...</td>\n",
       "      <td>85</td>\n",
       "      <td>551</td>\n",
       "      <td>13644000.0</td>\n",
       "      <td>15750000.0</td>\n",
       "      <td>13644000.0</td>\n",
       "      <td>15750000.0</td>\n",
       "      <td>NaN</td>\n",
       "      <td>FINAL</td>\n",
       "      <td>2010/11</td>\n",
       "      <td>AC-TR</td>\n",
       "    </tr>\n",
       "    <tr>\n",
       "      <th>4</th>\n",
       "      <td>5</td>\n",
       "      <td>1000030001</td>\n",
       "      <td>1</td>\n",
       "      <td>3</td>\n",
       "      <td>1</td>\n",
       "      <td>NaN</td>\n",
       "      <td>PARKS AND RECREATION</td>\n",
       "      <td>Q1</td>\n",
       "      <td>4</td>\n",
       "      <td>323</td>\n",
       "      <td>...</td>\n",
       "      <td>89</td>\n",
       "      <td>57</td>\n",
       "      <td>106348680.0</td>\n",
       "      <td>107758350.0</td>\n",
       "      <td>106348680.0</td>\n",
       "      <td>107758350.0</td>\n",
       "      <td>NaN</td>\n",
       "      <td>FINAL</td>\n",
       "      <td>2010/11</td>\n",
       "      <td>AC-TR</td>\n",
       "    </tr>\n",
       "  </tbody>\n",
       "</table>\n",
       "<p>5 rows × 32 columns</p>\n",
       "</div>"
      ],
      "text/plain": [
       "   RECORD        BBLE  BORO  BLOCK  LOT EASEMENT                  OWNER  \\\n",
       "0       1  1000010101     1      1  101      NaN  U S GOVT LAND & BLDGS   \n",
       "1       2  1000010201     1      1  201      NaN  U S GOVT LAND & BLDGS   \n",
       "2       3  1000020001     1      2    1      NaN  DEPT OF GENERAL SERVI   \n",
       "3       4  1000020023     1      2   23      NaN  DEPARTMENT OF BUSINES   \n",
       "4       5  1000030001     1      3    1      NaN   PARKS AND RECREATION   \n",
       "\n",
       "  BLDGCL TAXCLASS  LTFRONT  ...  BLDFRONT BLDDEPTH      AVLAND2       AVTOT2  \\\n",
       "0     P7        4      500  ...         0        0    3775500.0    8613000.0   \n",
       "1     Z9        4       27  ...         0        0   11111400.0   80690400.0   \n",
       "2     Y7        4      709  ...       709      564   32321790.0   40179510.0   \n",
       "3     T2        4      793  ...        85      551   13644000.0   15750000.0   \n",
       "4     Q1        4      323  ...        89       57  106348680.0  107758350.0   \n",
       "\n",
       "       EXLAND2       EXTOT2  EXCD2  PERIOD     YEAR VALTYPE  \n",
       "0    3775500.0    8613000.0    NaN   FINAL  2010/11   AC-TR  \n",
       "1   11111400.0   80690400.0    NaN   FINAL  2010/11   AC-TR  \n",
       "2   32321790.0   40179510.0    NaN   FINAL  2010/11   AC-TR  \n",
       "3   13644000.0   15750000.0    NaN   FINAL  2010/11   AC-TR  \n",
       "4  106348680.0  107758350.0    NaN   FINAL  2010/11   AC-TR  \n",
       "\n",
       "[5 rows x 32 columns]"
      ]
     },
     "execution_count": 2,
     "metadata": {},
     "output_type": "execute_result"
    }
   ],
   "source": [
    "data = pd.read_csv('NY property data.csv')\n",
    "data.head()"
   ]
  },
  {
   "cell_type": "code",
   "execution_count": 3,
   "id": "b7a2cca9",
   "metadata": {},
   "outputs": [
    {
     "data": {
      "text/plain": [
       "(1070994, 32)"
      ]
     },
     "execution_count": 3,
     "metadata": {},
     "output_type": "execute_result"
    }
   ],
   "source": [
    "data.shape"
   ]
  },
  {
   "cell_type": "code",
   "execution_count": 4,
   "id": "a0f47ae0",
   "metadata": {},
   "outputs": [
    {
     "data": {
      "text/html": [
       "<div>\n",
       "<style scoped>\n",
       "    .dataframe tbody tr th:only-of-type {\n",
       "        vertical-align: middle;\n",
       "    }\n",
       "\n",
       "    .dataframe tbody tr th {\n",
       "        vertical-align: top;\n",
       "    }\n",
       "\n",
       "    .dataframe thead th {\n",
       "        text-align: right;\n",
       "    }\n",
       "</style>\n",
       "<table border=\"1\" class=\"dataframe\">\n",
       "  <thead>\n",
       "    <tr style=\"text-align: right;\">\n",
       "      <th></th>\n",
       "      <th>RECORD</th>\n",
       "      <th>BBLE</th>\n",
       "      <th>BORO</th>\n",
       "      <th>BLOCK</th>\n",
       "      <th>LOT</th>\n",
       "      <th>EASEMENT</th>\n",
       "      <th>OWNER</th>\n",
       "      <th>BLDGCL</th>\n",
       "      <th>TAXCLASS</th>\n",
       "      <th>LTFRONT</th>\n",
       "      <th>...</th>\n",
       "      <th>BLDFRONT</th>\n",
       "      <th>BLDDEPTH</th>\n",
       "      <th>AVLAND2</th>\n",
       "      <th>AVTOT2</th>\n",
       "      <th>EXLAND2</th>\n",
       "      <th>EXTOT2</th>\n",
       "      <th>EXCD2</th>\n",
       "      <th>PERIOD</th>\n",
       "      <th>YEAR</th>\n",
       "      <th>VALTYPE</th>\n",
       "    </tr>\n",
       "  </thead>\n",
       "  <tbody>\n",
       "    <tr>\n",
       "      <th>0</th>\n",
       "      <td>1</td>\n",
       "      <td>1000010101</td>\n",
       "      <td>1</td>\n",
       "      <td>1</td>\n",
       "      <td>101</td>\n",
       "      <td>NaN</td>\n",
       "      <td>U S GOVT LAND &amp; BLDGS</td>\n",
       "      <td>P7</td>\n",
       "      <td>4</td>\n",
       "      <td>500</td>\n",
       "      <td>...</td>\n",
       "      <td>0</td>\n",
       "      <td>0</td>\n",
       "      <td>3775500.0</td>\n",
       "      <td>8613000.0</td>\n",
       "      <td>3775500.0</td>\n",
       "      <td>8613000.0</td>\n",
       "      <td>NaN</td>\n",
       "      <td>FINAL</td>\n",
       "      <td>2010/11</td>\n",
       "      <td>AC-TR</td>\n",
       "    </tr>\n",
       "    <tr>\n",
       "      <th>1</th>\n",
       "      <td>2</td>\n",
       "      <td>1000010201</td>\n",
       "      <td>1</td>\n",
       "      <td>1</td>\n",
       "      <td>201</td>\n",
       "      <td>NaN</td>\n",
       "      <td>U S GOVT LAND &amp; BLDGS</td>\n",
       "      <td>Z9</td>\n",
       "      <td>4</td>\n",
       "      <td>27</td>\n",
       "      <td>...</td>\n",
       "      <td>0</td>\n",
       "      <td>0</td>\n",
       "      <td>11111400.0</td>\n",
       "      <td>80690400.0</td>\n",
       "      <td>11111400.0</td>\n",
       "      <td>80690400.0</td>\n",
       "      <td>NaN</td>\n",
       "      <td>FINAL</td>\n",
       "      <td>2010/11</td>\n",
       "      <td>AC-TR</td>\n",
       "    </tr>\n",
       "    <tr>\n",
       "      <th>2</th>\n",
       "      <td>3</td>\n",
       "      <td>1000020001</td>\n",
       "      <td>1</td>\n",
       "      <td>2</td>\n",
       "      <td>1</td>\n",
       "      <td>NaN</td>\n",
       "      <td>DEPT OF GENERAL SERVI</td>\n",
       "      <td>Y7</td>\n",
       "      <td>4</td>\n",
       "      <td>709</td>\n",
       "      <td>...</td>\n",
       "      <td>709</td>\n",
       "      <td>564</td>\n",
       "      <td>32321790.0</td>\n",
       "      <td>40179510.0</td>\n",
       "      <td>32321790.0</td>\n",
       "      <td>40179510.0</td>\n",
       "      <td>NaN</td>\n",
       "      <td>FINAL</td>\n",
       "      <td>2010/11</td>\n",
       "      <td>AC-TR</td>\n",
       "    </tr>\n",
       "    <tr>\n",
       "      <th>3</th>\n",
       "      <td>4</td>\n",
       "      <td>1000020023</td>\n",
       "      <td>1</td>\n",
       "      <td>2</td>\n",
       "      <td>23</td>\n",
       "      <td>NaN</td>\n",
       "      <td>DEPARTMENT OF BUSINES</td>\n",
       "      <td>T2</td>\n",
       "      <td>4</td>\n",
       "      <td>793</td>\n",
       "      <td>...</td>\n",
       "      <td>85</td>\n",
       "      <td>551</td>\n",
       "      <td>13644000.0</td>\n",
       "      <td>15750000.0</td>\n",
       "      <td>13644000.0</td>\n",
       "      <td>15750000.0</td>\n",
       "      <td>NaN</td>\n",
       "      <td>FINAL</td>\n",
       "      <td>2010/11</td>\n",
       "      <td>AC-TR</td>\n",
       "    </tr>\n",
       "    <tr>\n",
       "      <th>4</th>\n",
       "      <td>5</td>\n",
       "      <td>1000030001</td>\n",
       "      <td>1</td>\n",
       "      <td>3</td>\n",
       "      <td>1</td>\n",
       "      <td>NaN</td>\n",
       "      <td>PARKS AND RECREATION</td>\n",
       "      <td>Q1</td>\n",
       "      <td>4</td>\n",
       "      <td>323</td>\n",
       "      <td>...</td>\n",
       "      <td>89</td>\n",
       "      <td>57</td>\n",
       "      <td>106348680.0</td>\n",
       "      <td>107758350.0</td>\n",
       "      <td>106348680.0</td>\n",
       "      <td>107758350.0</td>\n",
       "      <td>NaN</td>\n",
       "      <td>FINAL</td>\n",
       "      <td>2010/11</td>\n",
       "      <td>AC-TR</td>\n",
       "    </tr>\n",
       "  </tbody>\n",
       "</table>\n",
       "<p>5 rows × 32 columns</p>\n",
       "</div>"
      ],
      "text/plain": [
       "   RECORD        BBLE  BORO  BLOCK  LOT EASEMENT                  OWNER  \\\n",
       "0       1  1000010101     1      1  101      NaN  U S GOVT LAND & BLDGS   \n",
       "1       2  1000010201     1      1  201      NaN  U S GOVT LAND & BLDGS   \n",
       "2       3  1000020001     1      2    1      NaN  DEPT OF GENERAL SERVI   \n",
       "3       4  1000020023     1      2   23      NaN  DEPARTMENT OF BUSINES   \n",
       "4       5  1000030001     1      3    1      NaN   PARKS AND RECREATION   \n",
       "\n",
       "  BLDGCL TAXCLASS  LTFRONT  ...  BLDFRONT BLDDEPTH      AVLAND2       AVTOT2  \\\n",
       "0     P7        4      500  ...         0        0    3775500.0    8613000.0   \n",
       "1     Z9        4       27  ...         0        0   11111400.0   80690400.0   \n",
       "2     Y7        4      709  ...       709      564   32321790.0   40179510.0   \n",
       "3     T2        4      793  ...        85      551   13644000.0   15750000.0   \n",
       "4     Q1        4      323  ...        89       57  106348680.0  107758350.0   \n",
       "\n",
       "       EXLAND2       EXTOT2  EXCD2  PERIOD     YEAR VALTYPE  \n",
       "0    3775500.0    8613000.0    NaN   FINAL  2010/11   AC-TR  \n",
       "1   11111400.0   80690400.0    NaN   FINAL  2010/11   AC-TR  \n",
       "2   32321790.0   40179510.0    NaN   FINAL  2010/11   AC-TR  \n",
       "3   13644000.0   15750000.0    NaN   FINAL  2010/11   AC-TR  \n",
       "4  106348680.0  107758350.0    NaN   FINAL  2010/11   AC-TR  \n",
       "\n",
       "[5 rows x 32 columns]"
      ]
     },
     "execution_count": 4,
     "metadata": {},
     "output_type": "execute_result"
    }
   ],
   "source": [
    "data.head()"
   ]
  },
  {
   "cell_type": "markdown",
   "id": "a077d719",
   "metadata": {},
   "source": [
    "# Cleaning the NY Data"
   ]
  },
  {
   "cell_type": "markdown",
   "id": "fd314e1c",
   "metadata": {},
   "source": [
    "## STEP 1: List of Owner Names to Remove"
   ]
  },
  {
   "cell_type": "code",
   "execution_count": 5,
   "id": "0d830700",
   "metadata": {},
   "outputs": [
    {
     "data": {
      "text/plain": [
       "['PARKCHESTER PRESERVAT',\n",
       " 'PARKS AND RECREATION',\n",
       " 'DCAS',\n",
       " 'HOUSING PRESERVATION',\n",
       " 'CITY OF NEW YORK',\n",
       " 'DEPT OF ENVIRONMENTAL',\n",
       " 'BOARD OF EDUCATION',\n",
       " 'NEW YORK CITY HOUSING',\n",
       " 'CNY/NYCTA',\n",
       " 'NYC HOUSING PARTNERSH',\n",
       " 'YORKVILLE TOWERS ASSO',\n",
       " 'DEPARTMENT OF BUSINES',\n",
       " 'DEPT OF TRANSPORTATIO',\n",
       " 'MTA/LIRR',\n",
       " 'PARCKHESTER PRESERVAT',\n",
       " 'MH RESIDENTIAL 1, LLC',\n",
       " '434 M LLC',\n",
       " 'LINCOLN PLAZA ASSOCIA',\n",
       " 'DEUTSCHE BANK NATIONA',\n",
       " '561 11TH AVENUE TMG L']"
      ]
     },
     "execution_count": 5,
     "metadata": {},
     "output_type": "execute_result"
    }
   ],
   "source": [
    "remove_list = data['OWNER'].value_counts().head(20).index.to_list()\n",
    "remove_list"
   ]
  },
  {
   "cell_type": "code",
   "execution_count": 6,
   "id": "767411dd",
   "metadata": {},
   "outputs": [],
   "source": [
    "# remove some of these and add some others to also be removed\n",
    "remove_list.remove('YORKVILLE TOWERS ASSO')\n",
    "remove_list.remove('434 M LLC')\n",
    "remove_list.remove('DEUTSCHE BANK NATIONA')\n",
    "remove_list.remove('561 11TH AVENUE TMG L')\n",
    "remove_list.append('UNITED STATES OF AMER')\n",
    "remove_list.append('U S GOVERNMENT OWNRD')\n",
    "remove_list.append('THE CITY OF NEW YORK')\n",
    "remove_list.append('NYS URBAN DEVELOPMENT')\n",
    "remove_list.append('NYS DEPT OF ENVIRONME')\n",
    "remove_list.append( 'CULTURAL AFFAIRS')\n",
    "remove_list.append('DEPT OF GENERAL SERVI')\n",
    "remove_list.append('DEPT RE-CITY OF NY')\n",
    "remove_list.append('NY STATE PUBLIC WORKS')\n",
    "remove_list.append('NYC DEPT OF HIGHWAYS')\n",
    "remove_list.append(\"NYC DEP'T OF HIGHWAYS\")\n",
    "remove_list.append('CITY WIDE ADMINISTRAT')\n",
    "remove_list.append('DEPT OF PUBLIC WORKS')\n",
    "remove_list.append( 'NEW YORK CITY')\n",
    "remove_list.append('THE PORT OFNY & NJ')\n",
    "remove_list.append('NYC DEPT OF PUB WORKS')\n",
    "remove_list.append('NEW YORK STATE DEPART')\n",
    "remove_list.append('CITY AND NON-CITY OWN')"
   ]
  },
  {
   "cell_type": "code",
   "execution_count": 7,
   "id": "d817d490",
   "metadata": {},
   "outputs": [
    {
     "data": {
      "text/plain": [
       "(1046516, 32)"
      ]
     },
     "execution_count": 7,
     "metadata": {},
     "output_type": "execute_result"
    }
   ],
   "source": [
    "property_data = data[-data['OWNER'].isin(remove_list) ].reset_index(drop=True)\n",
    "property_data.shape"
   ]
  },
  {
   "cell_type": "code",
   "execution_count": 8,
   "id": "e6f1a416",
   "metadata": {},
   "outputs": [
    {
     "data": {
      "text/plain": [
       "(1070994, 32)"
      ]
     },
     "execution_count": 8,
     "metadata": {},
     "output_type": "execute_result"
    }
   ],
   "source": [
    "data.shape"
   ]
  },
  {
   "cell_type": "code",
   "execution_count": 9,
   "id": "21db7dd4",
   "metadata": {},
   "outputs": [
    {
     "data": {
      "text/plain": [
       "24478"
      ]
     },
     "execution_count": 9,
     "metadata": {},
     "output_type": "execute_result"
    }
   ],
   "source": [
    "len(data) - len(property_data)"
   ]
  },
  {
   "cell_type": "markdown",
   "id": "8b960a5a",
   "metadata": {},
   "source": [
    "## STEP 2: Fill in the Missing ZIPs"
   ]
  },
  {
   "cell_type": "code",
   "execution_count": 10,
   "id": "ed9997d3",
   "metadata": {
    "scrolled": true
   },
   "outputs": [
    {
     "data": {
      "text/plain": [
       "10314.0    24546\n",
       "11234.0    19974\n",
       "10312.0    18039\n",
       "10306.0    16520\n",
       "11236.0    15642\n",
       "           ...  \n",
       "10048.0        1\n",
       "11005.0        1\n",
       "11352.0        1\n",
       "11371.0        1\n",
       "11241.0        1\n",
       "Name: ZIP, Length: 195, dtype: int64"
      ]
     },
     "execution_count": 10,
     "metadata": {},
     "output_type": "execute_result"
    }
   ],
   "source": [
    "property_data['ZIP'].value_counts()"
   ]
  },
  {
   "cell_type": "code",
   "execution_count": 11,
   "id": "639a91f2",
   "metadata": {},
   "outputs": [
    {
     "data": {
      "text/plain": [
       "21537"
      ]
     },
     "execution_count": 11,
     "metadata": {},
     "output_type": "execute_result"
    }
   ],
   "source": [
    "# How many zips are missing? replace NaN wit 0 and count them.\n",
    "missing_zips = np.where(pd.isnull(property_data['ZIP']))[0]\n",
    "len(missing_zips)"
   ]
  },
  {
   "cell_type": "code",
   "execution_count": 12,
   "id": "7f408005",
   "metadata": {},
   "outputs": [],
   "source": [
    "for i in range(len(missing_zips)):\n",
    "    if (property_data.loc[missing_zips[i]+1, 'ZIP']== property_data.loc[missing_zips[i]-1, 'ZIP']):\n",
    "        property_data.loc[missing_zips[i], 'ZIP'] = property_data.loc[missing_zips[i]-1, 'ZIP']"
   ]
  },
  {
   "cell_type": "code",
   "execution_count": 13,
   "id": "7638583c",
   "metadata": {},
   "outputs": [
    {
     "data": {
      "text/plain": [
       "10114"
      ]
     },
     "execution_count": 13,
     "metadata": {},
     "output_type": "execute_result"
    }
   ],
   "source": [
    "missing_zips = np.where(pd.isnull(property_data['ZIP']))[0]\n",
    "len(missing_zips)"
   ]
  },
  {
   "cell_type": "code",
   "execution_count": 14,
   "id": "2e298af4",
   "metadata": {},
   "outputs": [],
   "source": [
    "# for the remaining missing zips, just fill in with the previous record's zip\n",
    "for i in range(len(missing_zips)):\n",
    "    property_data.loc[missing_zips[i], 'ZIP'] = property_data.loc[missing_zips[i]-1, 'ZIP']"
   ]
  },
  {
   "cell_type": "code",
   "execution_count": 15,
   "id": "33e5d4c5",
   "metadata": {},
   "outputs": [
    {
     "data": {
      "text/plain": [
       "0"
      ]
     },
     "execution_count": 15,
     "metadata": {},
     "output_type": "execute_result"
    }
   ],
   "source": [
    "missing_zips = np.where(pd.isnull(property_data['ZIP']))[0]\n",
    "len(missing_zips)"
   ]
  },
  {
   "cell_type": "markdown",
   "id": "e7a654e4",
   "metadata": {},
   "source": [
    "## STEP 3: Fill in Missing FULLVAL, AVLAND, AVTOT"
   ]
  },
  {
   "cell_type": "code",
   "execution_count": 16,
   "id": "4a493d75",
   "metadata": {},
   "outputs": [
    {
     "name": "stdout",
     "output_type": "stream",
     "text": [
      "TAXCLASS\n",
      "1     5.700050e+05\n",
      "1A    3.352942e+05\n",
      "1B    3.741718e+05\n",
      "1C    7.615359e+05\n",
      "1D    2.233614e+07\n",
      "2     8.005832e+05\n",
      "2A    8.639066e+05\n",
      "2B    1.254525e+06\n",
      "2C    7.723556e+05\n",
      "3     8.510005e+04\n",
      "4     2.713604e+06\n",
      "Name: FULLVAL, dtype: float64\n"
     ]
    }
   ],
   "source": [
    "property_data['FULLVAL'] = property_data['FULLVAL'].replace('NaN', 0)\n",
    "temp = property_data[property_data['FULLVAL']!= 0]\n",
    "mean_fullval = temp.groupby(\"TAXCLASS\")['FULLVAL'].mean()\n",
    "print(mean_fullval)"
   ]
  },
  {
   "cell_type": "code",
   "execution_count": 17,
   "id": "46834917",
   "metadata": {},
   "outputs": [],
   "source": [
    "property_data['AVLAND'] = property_data['AVLAND'].replace('NaN',0)\n",
    "temp_avland = property_data[property_data['AVLAND']!=0]\n",
    "mean_avland = temp_avland.groupby('TAXCLASS')['AVLAND'].mean()"
   ]
  },
  {
   "cell_type": "code",
   "execution_count": 18,
   "id": "085d0be0",
   "metadata": {},
   "outputs": [],
   "source": [
    "property_data['AVTOT'] = property_data['AVTOT'].replace('NaN',0)\n",
    "temp_avtot = property_data[property_data['AVTOT']!=0]\n",
    "mean_avtot = temp_avtot.groupby('TAXCLASS')['AVTOT'].mean()"
   ]
  },
  {
   "cell_type": "code",
   "execution_count": 19,
   "id": "8251b701",
   "metadata": {},
   "outputs": [],
   "source": [
    "# substituting decent values for AVTOT, AVLAND, FULLVAL from averages by taxclass\n",
    "# %%time\n",
    "for index in mean_fullval.index:\n",
    "    property_data.loc[(property_data['FULLVAL']==0) & (property_data['TAXCLASS']==index), 'FULLVAL'] = mean_fullval[index]\n",
    "    property_data.loc[(property_data['AVLAND']==0) & (property_data['TAXCLASS']==index), 'AVLAND'] = mean_avland[index]\n",
    "    property_data.loc[(property_data['AVTOT']==0) & (property_data['TAXCLASS']==index), 'AVTOT'] = mean_avtot[index]"
   ]
  },
  {
   "cell_type": "markdown",
   "id": "2b3e60e3",
   "metadata": {},
   "source": [
    "## STEP 4: Fill in Missing STORIES"
   ]
  },
  {
   "cell_type": "code",
   "execution_count": 20,
   "id": "77397068",
   "metadata": {},
   "outputs": [],
   "source": [
    "mean_stories = property_data.groupby('TAXCLASS')['STORIES'].mean()\n",
    "\n",
    "property_data['STORIES'] = property_data['STORIES'].fillna(value = 0)\n",
    "for index in mean_stories.index:\n",
    "    property_data.loc[(property_data['STORIES'] == 0) & (property_data['TAXCLASS'] == index), 'STORIES'] = mean_stories[index]"
   ]
  },
  {
   "cell_type": "code",
   "execution_count": 21,
   "id": "6a7538b7",
   "metadata": {},
   "outputs": [
    {
     "data": {
      "text/plain": [
       "0"
      ]
     },
     "execution_count": 21,
     "metadata": {},
     "output_type": "execute_result"
    }
   ],
   "source": [
    "property_data[property_data['STORIES'] == 0].shape[0]"
   ]
  },
  {
   "cell_type": "markdown",
   "id": "e030d21e",
   "metadata": {},
   "source": [
    "## STEP 5: Fill in LTFRONT, LTDEPTH, BLDFRONT, BLDDEPTH"
   ]
  },
  {
   "cell_type": "code",
   "execution_count": 22,
   "id": "30695694",
   "metadata": {},
   "outputs": [],
   "source": [
    "# as these 4 values do not have NAs, we need to replace 0s. \n",
    "# calculate groupwise average. First replace the 0’s and 1’s by NAs so they are not counted in calculating mean.\n",
    "property_data.loc[property_data['LTFRONT']==0,'LTFRONT']=np.nan\n",
    "property_data.loc[property_data['LTDEPTH']==0,'LTDEPTH']=np.nan\n",
    "property_data.loc[property_data['BLDFRONT']==0,'BLDFRONT']=np.nan\n",
    "property_data.loc[property_data['BLDDEPTH']==0,'BLDDEPTH']=np.nan\n",
    "\n",
    "property_data.loc[property_data['LTFRONT']==1,'LTFRONT']=np.nan\n",
    "property_data.loc[property_data['LTDEPTH']==1,'LTDEPTH']=np.nan\n",
    "property_data.loc[property_data['BLDFRONT']==1,'BLDFRONT']=np.nan\n",
    "property_data.loc[property_data['BLDDEPTH']==1,'BLDDEPTH']=np.nan\n",
    "\n",
    "# calculate the mean now (mean function ignores NAs but not 0s hence we converted 0 to NA)\n",
    "mean_LTFRONT=property_data.groupby(property_data['TAXCLASS'])['LTFRONT'].mean()\n",
    "mean_LTDEPTH=property_data.groupby(property_data['TAXCLASS'])['LTDEPTH'].mean()\n",
    "mean_BLDFRONT=property_data.groupby(property_data['TAXCLASS'])['BLDFRONT'].mean()\n",
    "mean_BLDDEPTH=property_data.groupby(property_data['TAXCLASS'])['BLDDEPTH'].mean()\n",
    "\n",
    "# impute values\n",
    "for index in mean_LTFRONT.index:\n",
    "    property_data.loc[(property_data['LTFRONT'].isnull())&(property_data['TAXCLASS']==index),'LTFRONT']=mean_LTFRONT[index]\n",
    "    property_data.loc[(property_data['LTDEPTH'].isnull())&(property_data['TAXCLASS']==index),'LTDEPTH']=mean_LTDEPTH[index]\n",
    "    property_data.loc[(property_data['BLDFRONT'].isnull())&(property_data['TAXCLASS']==index),'BLDFRONT']=mean_BLDFRONT[index]\n",
    "    property_data.loc[(property_data['BLDDEPTH'].isnull())&(property_data['TAXCLASS']==index),'BLDDEPTH']=mean_BLDDEPTH[index]"
   ]
  },
  {
   "cell_type": "markdown",
   "id": "0fe0f953",
   "metadata": {},
   "source": [
    "# Calculate 90 Fraud Algorithm Variables"
   ]
  },
  {
   "cell_type": "code",
   "execution_count": 23,
   "id": "9212f921",
   "metadata": {},
   "outputs": [],
   "source": [
    "# Convert ZIP to an integer rather than a float\n",
    "property_data['ZIP'] = property_data['ZIP'].astype(str)\n",
    "property_data['zip3'] = property_data['ZIP'].str[:3]\n",
    "\n",
    "property_data['ltsize'] = property_data[\"LTFRONT\"] * property_data['LTDEPTH']\n",
    "property_data['bldsize'] = property_data[\"BLDFRONT\"] * property_data['BLDDEPTH']\n",
    "property_data['bldvol'] = property_data[\"bldsize\"] * property_data['STORIES']\n",
    "\n",
    "property_data['r1'] = property_data['FULLVAL'] / property_data['ltsize']\n",
    "property_data['r2'] = property_data['FULLVAL'] / property_data['bldsize']\n",
    "property_data['r3'] = property_data['FULLVAL'] / property_data['bldvol']\n",
    "property_data['r4'] = property_data['AVLAND'] / property_data['ltsize']\n",
    "property_data['r5'] = property_data['AVLAND'] / property_data['bldsize']\n",
    "property_data['r6'] = property_data['AVLAND'] / property_data['bldvol']\n",
    "property_data['r7'] = property_data['AVTOT'] / property_data['ltsize']\n",
    "property_data['r8'] = property_data['AVTOT'] / property_data['bldsize']\n",
    "property_data['r9'] = property_data['AVTOT'] / property_data['bldvol']"
   ]
  },
  {
   "cell_type": "code",
   "execution_count": 24,
   "id": "d79f32b1",
   "metadata": {},
   "outputs": [
    {
     "data": {
      "text/plain": [
       "Index(['r1', 'r2', 'r3', 'r4', 'r5', 'r6', 'r7', 'r8', 'r9'], dtype='object')"
      ]
     },
     "execution_count": 24,
     "metadata": {},
     "output_type": "execute_result"
    }
   ],
   "source": [
    "property_data.columns[36:]"
   ]
  },
  {
   "cell_type": "code",
   "execution_count": 25,
   "id": "be634fad",
   "metadata": {},
   "outputs": [],
   "source": [
    "for col in property_data.columns[36:]:\n",
    "    property_data[col+'inv'] = 1 / (property_data[col])"
   ]
  },
  {
   "cell_type": "code",
   "execution_count": 26,
   "id": "c272e0ba",
   "metadata": {},
   "outputs": [],
   "source": [
    "vars18 = ['r1', 'r2', 'r3', 'r4', 'r5', 'r6', 'r7', 'r8', 'r9',\n",
    "         'r1inv', 'r2inv', 'r3inv', 'r4inv', 'r5inv', 'r6inv', 'r7inv', 'r8inv', 'r9inv']\n",
    "zip5_mean = property_data.groupby(\"ZIP\")[vars18].mean()\n",
    "zip3_mean = property_data.groupby(\"zip3\")[vars18].mean()\n",
    "taxclass_mean = property_data.groupby(\"TAXCLASS\")[vars18].mean()\n",
    "borough_mean = property_data.groupby(\"BORO\")[vars18].mean()\n",
    "property_data = property_data.join(zip5_mean, on = \"ZIP\", rsuffix = '_zip5')\n",
    "property_data = property_data.join(zip3_mean, on = \"zip3\", rsuffix = '_zip3')\n",
    "property_data = property_data.join(taxclass_mean, on = \"TAXCLASS\", rsuffix = '_taxclass')\n",
    "property_data = property_data.join(borough_mean, on = \"BORO\", rsuffix = '_boro')\n",
    "rsuffix = [\"_zip5\", \"_zip3\", \"_taxclass\", \"_boro\"]\n",
    "for var in vars18:\n",
    "    for r in rsuffix:\n",
    "        property_data[str(var)+r] = property_data[var] / property_data[str(var)+r]"
   ]
  },
  {
   "cell_type": "code",
   "execution_count": 27,
   "id": "32d7109b",
   "metadata": {},
   "outputs": [
    {
     "data": {
      "text/plain": [
       "Index(['RECORD', 'BBLE', 'BORO', 'BLOCK', 'LOT', 'EASEMENT', 'OWNER', 'BLDGCL',\n",
       "       'TAXCLASS', 'LTFRONT',\n",
       "       ...\n",
       "       'r9_boro', 'r1inv_boro', 'r2inv_boro', 'r3inv_boro', 'r4inv_boro',\n",
       "       'r5inv_boro', 'r6inv_boro', 'r7inv_boro', 'r8inv_boro', 'r9inv_boro'],\n",
       "      dtype='object', length=126)"
      ]
     },
     "execution_count": 27,
     "metadata": {},
     "output_type": "execute_result"
    }
   ],
   "source": [
    "property_data.columns"
   ]
  },
  {
   "cell_type": "markdown",
   "id": "24a43966",
   "metadata": {},
   "source": [
    "# Calculate the Basic Statistical Properties of 90 Variables"
   ]
  },
  {
   "cell_type": "code",
   "execution_count": 28,
   "id": "95a4e1d8",
   "metadata": {},
   "outputs": [
    {
     "data": {
      "text/html": [
       "<div>\n",
       "<style scoped>\n",
       "    .dataframe tbody tr th:only-of-type {\n",
       "        vertical-align: middle;\n",
       "    }\n",
       "\n",
       "    .dataframe tbody tr th {\n",
       "        vertical-align: top;\n",
       "    }\n",
       "\n",
       "    .dataframe thead th {\n",
       "        text-align: right;\n",
       "    }\n",
       "</style>\n",
       "<table border=\"1\" class=\"dataframe\">\n",
       "  <thead>\n",
       "    <tr style=\"text-align: right;\">\n",
       "      <th></th>\n",
       "      <th>count</th>\n",
       "      <th>mean</th>\n",
       "      <th>std</th>\n",
       "      <th>min</th>\n",
       "      <th>25%</th>\n",
       "      <th>50%</th>\n",
       "      <th>75%</th>\n",
       "      <th>max</th>\n",
       "    </tr>\n",
       "  </thead>\n",
       "  <tbody>\n",
       "    <tr>\n",
       "      <th>r1</th>\n",
       "      <td>1046516.0</td>\n",
       "      <td>213.503808</td>\n",
       "      <td>528.509868</td>\n",
       "      <td>0.000392</td>\n",
       "      <td>76.375353</td>\n",
       "      <td>152.916667</td>\n",
       "      <td>243.200000</td>\n",
       "      <td>135680.195265</td>\n",
       "    </tr>\n",
       "    <tr>\n",
       "      <th>r2</th>\n",
       "      <td>1046516.0</td>\n",
       "      <td>536.237504</td>\n",
       "      <td>1015.743970</td>\n",
       "      <td>0.000747</td>\n",
       "      <td>212.235545</td>\n",
       "      <td>500.000000</td>\n",
       "      <td>683.891491</td>\n",
       "      <td>310742.524961</td>\n",
       "    </tr>\n",
       "    <tr>\n",
       "      <th>r3</th>\n",
       "      <td>1046516.0</td>\n",
       "      <td>243.931653</td>\n",
       "      <td>486.583927</td>\n",
       "      <td>0.000090</td>\n",
       "      <td>82.741261</td>\n",
       "      <td>239.102564</td>\n",
       "      <td>336.257310</td>\n",
       "      <td>227500.000000</td>\n",
       "    </tr>\n",
       "    <tr>\n",
       "      <th>r4</th>\n",
       "      <td>1046516.0</td>\n",
       "      <td>10.453704</td>\n",
       "      <td>69.427805</td>\n",
       "      <td>0.000008</td>\n",
       "      <td>2.356020</td>\n",
       "      <td>4.598000</td>\n",
       "      <td>7.225959</td>\n",
       "      <td>22032.314558</td>\n",
       "    </tr>\n",
       "    <tr>\n",
       "      <th>r5</th>\n",
       "      <td>1046516.0</td>\n",
       "      <td>22.710592</td>\n",
       "      <td>373.449262</td>\n",
       "      <td>0.000210</td>\n",
       "      <td>6.215246</td>\n",
       "      <td>14.983333</td>\n",
       "      <td>20.287152</td>\n",
       "      <td>334842.138488</td>\n",
       "    </tr>\n",
       "    <tr>\n",
       "      <th>r6</th>\n",
       "      <td>1046516.0</td>\n",
       "      <td>9.972084</td>\n",
       "      <td>173.490209</td>\n",
       "      <td>0.000010</td>\n",
       "      <td>2.021085</td>\n",
       "      <td>7.148054</td>\n",
       "      <td>10.043885</td>\n",
       "      <td>111614.046163</td>\n",
       "    </tr>\n",
       "    <tr>\n",
       "      <th>r7</th>\n",
       "      <td>1046516.0</td>\n",
       "      <td>26.785106</td>\n",
       "      <td>201.622470</td>\n",
       "      <td>0.000008</td>\n",
       "      <td>5.284000</td>\n",
       "      <td>8.581667</td>\n",
       "      <td>13.528964</td>\n",
       "      <td>63386.622397</td>\n",
       "    </tr>\n",
       "    <tr>\n",
       "      <th>r8</th>\n",
       "      <td>1046516.0</td>\n",
       "      <td>50.329579</td>\n",
       "      <td>930.162498</td>\n",
       "      <td>0.000306</td>\n",
       "      <td>17.478683</td>\n",
       "      <td>26.980501</td>\n",
       "      <td>36.003636</td>\n",
       "      <td>871898.008737</td>\n",
       "    </tr>\n",
       "    <tr>\n",
       "      <th>r9</th>\n",
       "      <td>1046516.0</td>\n",
       "      <td>18.980834</td>\n",
       "      <td>323.424616</td>\n",
       "      <td>0.000060</td>\n",
       "      <td>7.100314</td>\n",
       "      <td>12.679808</td>\n",
       "      <td>17.575758</td>\n",
       "      <td>290632.669579</td>\n",
       "    </tr>\n",
       "    <tr>\n",
       "      <th>r1inv</th>\n",
       "      <td>1046516.0</td>\n",
       "      <td>0.111186</td>\n",
       "      <td>5.643281</td>\n",
       "      <td>0.000007</td>\n",
       "      <td>0.004112</td>\n",
       "      <td>0.006540</td>\n",
       "      <td>0.013093</td>\n",
       "      <td>2551.009064</td>\n",
       "    </tr>\n",
       "    <tr>\n",
       "      <th>r2inv</th>\n",
       "      <td>1046516.0</td>\n",
       "      <td>0.073379</td>\n",
       "      <td>2.927043</td>\n",
       "      <td>0.000003</td>\n",
       "      <td>0.001462</td>\n",
       "      <td>0.002000</td>\n",
       "      <td>0.004712</td>\n",
       "      <td>1338.547886</td>\n",
       "    </tr>\n",
       "    <tr>\n",
       "      <th>r3inv</th>\n",
       "      <td>1046516.0</td>\n",
       "      <td>0.810649</td>\n",
       "      <td>29.198504</td>\n",
       "      <td>0.000004</td>\n",
       "      <td>0.002974</td>\n",
       "      <td>0.004182</td>\n",
       "      <td>0.012086</td>\n",
       "      <td>11131.650780</td>\n",
       "    </tr>\n",
       "    <tr>\n",
       "      <th>r4inv</th>\n",
       "      <td>1046516.0</td>\n",
       "      <td>1.823449</td>\n",
       "      <td>122.792905</td>\n",
       "      <td>0.000045</td>\n",
       "      <td>0.138390</td>\n",
       "      <td>0.217486</td>\n",
       "      <td>0.424445</td>\n",
       "      <td>120000.000000</td>\n",
       "    </tr>\n",
       "    <tr>\n",
       "      <th>r5inv</th>\n",
       "      <td>1046516.0</td>\n",
       "      <td>1.038459</td>\n",
       "      <td>22.354796</td>\n",
       "      <td>0.000003</td>\n",
       "      <td>0.049292</td>\n",
       "      <td>0.066741</td>\n",
       "      <td>0.160895</td>\n",
       "      <td>4770.707477</td>\n",
       "    </tr>\n",
       "    <tr>\n",
       "      <th>r6inv</th>\n",
       "      <td>1046516.0</td>\n",
       "      <td>13.125521</td>\n",
       "      <td>386.023283</td>\n",
       "      <td>0.000009</td>\n",
       "      <td>0.099563</td>\n",
       "      <td>0.139898</td>\n",
       "      <td>0.494784</td>\n",
       "      <td>96336.094733</td>\n",
       "    </tr>\n",
       "    <tr>\n",
       "      <th>r7inv</th>\n",
       "      <td>1046516.0</td>\n",
       "      <td>0.559795</td>\n",
       "      <td>118.129439</td>\n",
       "      <td>0.000016</td>\n",
       "      <td>0.073915</td>\n",
       "      <td>0.116527</td>\n",
       "      <td>0.189251</td>\n",
       "      <td>120000.000000</td>\n",
       "    </tr>\n",
       "    <tr>\n",
       "      <th>r8inv</th>\n",
       "      <td>1046516.0</td>\n",
       "      <td>0.336129</td>\n",
       "      <td>8.156212</td>\n",
       "      <td>0.000001</td>\n",
       "      <td>0.027775</td>\n",
       "      <td>0.037064</td>\n",
       "      <td>0.057213</td>\n",
       "      <td>3265.333333</td>\n",
       "    </tr>\n",
       "    <tr>\n",
       "      <th>r9inv</th>\n",
       "      <td>1046516.0</td>\n",
       "      <td>2.405035</td>\n",
       "      <td>57.099287</td>\n",
       "      <td>0.000003</td>\n",
       "      <td>0.056897</td>\n",
       "      <td>0.078866</td>\n",
       "      <td>0.140839</td>\n",
       "      <td>16530.973214</td>\n",
       "    </tr>\n",
       "    <tr>\n",
       "      <th>r1_zip5</th>\n",
       "      <td>1046516.0</td>\n",
       "      <td>1.000000</td>\n",
       "      <td>2.140481</td>\n",
       "      <td>0.000002</td>\n",
       "      <td>0.462543</td>\n",
       "      <td>0.916333</td>\n",
       "      <td>1.230408</td>\n",
       "      <td>732.978917</td>\n",
       "    </tr>\n",
       "    <tr>\n",
       "      <th>r2_zip5</th>\n",
       "      <td>1046516.0</td>\n",
       "      <td>1.000000</td>\n",
       "      <td>2.105674</td>\n",
       "      <td>0.000001</td>\n",
       "      <td>0.439893</td>\n",
       "      <td>0.962751</td>\n",
       "      <td>1.260441</td>\n",
       "      <td>658.683217</td>\n",
       "    </tr>\n",
       "  </tbody>\n",
       "</table>\n",
       "</div>"
      ],
      "text/plain": [
       "             count        mean          std       min         25%         50%  \\\n",
       "r1       1046516.0  213.503808   528.509868  0.000392   76.375353  152.916667   \n",
       "r2       1046516.0  536.237504  1015.743970  0.000747  212.235545  500.000000   \n",
       "r3       1046516.0  243.931653   486.583927  0.000090   82.741261  239.102564   \n",
       "r4       1046516.0   10.453704    69.427805  0.000008    2.356020    4.598000   \n",
       "r5       1046516.0   22.710592   373.449262  0.000210    6.215246   14.983333   \n",
       "r6       1046516.0    9.972084   173.490209  0.000010    2.021085    7.148054   \n",
       "r7       1046516.0   26.785106   201.622470  0.000008    5.284000    8.581667   \n",
       "r8       1046516.0   50.329579   930.162498  0.000306   17.478683   26.980501   \n",
       "r9       1046516.0   18.980834   323.424616  0.000060    7.100314   12.679808   \n",
       "r1inv    1046516.0    0.111186     5.643281  0.000007    0.004112    0.006540   \n",
       "r2inv    1046516.0    0.073379     2.927043  0.000003    0.001462    0.002000   \n",
       "r3inv    1046516.0    0.810649    29.198504  0.000004    0.002974    0.004182   \n",
       "r4inv    1046516.0    1.823449   122.792905  0.000045    0.138390    0.217486   \n",
       "r5inv    1046516.0    1.038459    22.354796  0.000003    0.049292    0.066741   \n",
       "r6inv    1046516.0   13.125521   386.023283  0.000009    0.099563    0.139898   \n",
       "r7inv    1046516.0    0.559795   118.129439  0.000016    0.073915    0.116527   \n",
       "r8inv    1046516.0    0.336129     8.156212  0.000001    0.027775    0.037064   \n",
       "r9inv    1046516.0    2.405035    57.099287  0.000003    0.056897    0.078866   \n",
       "r1_zip5  1046516.0    1.000000     2.140481  0.000002    0.462543    0.916333   \n",
       "r2_zip5  1046516.0    1.000000     2.105674  0.000001    0.439893    0.962751   \n",
       "\n",
       "                75%            max  \n",
       "r1       243.200000  135680.195265  \n",
       "r2       683.891491  310742.524961  \n",
       "r3       336.257310  227500.000000  \n",
       "r4         7.225959   22032.314558  \n",
       "r5        20.287152  334842.138488  \n",
       "r6        10.043885  111614.046163  \n",
       "r7        13.528964   63386.622397  \n",
       "r8        36.003636  871898.008737  \n",
       "r9        17.575758  290632.669579  \n",
       "r1inv      0.013093    2551.009064  \n",
       "r2inv      0.004712    1338.547886  \n",
       "r3inv      0.012086   11131.650780  \n",
       "r4inv      0.424445  120000.000000  \n",
       "r5inv      0.160895    4770.707477  \n",
       "r6inv      0.494784   96336.094733  \n",
       "r7inv      0.189251  120000.000000  \n",
       "r8inv      0.057213    3265.333333  \n",
       "r9inv      0.140839   16530.973214  \n",
       "r1_zip5    1.230408     732.978917  \n",
       "r2_zip5    1.260441     658.683217  "
      ]
     },
     "execution_count": 28,
     "metadata": {},
     "output_type": "execute_result"
    }
   ],
   "source": [
    "variables = property_data[property_data.columns[36:]]\n",
    "stats = variables.describe().T\n",
    "stats.head(20)"
   ]
  },
  {
   "cell_type": "code",
   "execution_count": 30,
   "id": "e845f75d",
   "metadata": {},
   "outputs": [],
   "source": [
    "stats.to_excel(\"HW2_output.xlsx\")"
   ]
  },
  {
   "cell_type": "code",
   "execution_count": null,
   "id": "042a4520",
   "metadata": {},
   "outputs": [],
   "source": []
  }
 ],
 "metadata": {
  "kernelspec": {
   "display_name": "Python 3",
   "language": "python",
   "name": "python3"
  },
  "language_info": {
   "codemirror_mode": {
    "name": "ipython",
    "version": 3
   },
   "file_extension": ".py",
   "mimetype": "text/x-python",
   "name": "python",
   "nbconvert_exporter": "python",
   "pygments_lexer": "ipython3",
   "version": "3.8.8"
  }
 },
 "nbformat": 4,
 "nbformat_minor": 5
}
